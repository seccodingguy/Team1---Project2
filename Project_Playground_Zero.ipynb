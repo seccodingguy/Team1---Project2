{
 "cells": [
  {
   "cell_type": "code",
   "execution_count": null,
   "metadata": {},
   "outputs": [],
   "source": [
    "# Import the data\n",
    "import pandas as pd\n",
    "import numpy as np\n",
    "import matplotlib.pyplot as plt\n",
    "import pydotplus\n",
    "import seaborn as sns\n",
    "from IPython.display import Image\n",
    "from sklearn.model_selection import train_test_split, cross_val_score, GridSearchCV\n",
    "from sklearn.metrics import balanced_accuracy_score, accuracy_score, confusion_matrix, roc_auc_score, mean_squared_error, r2_score, mean_absolute_error\n",
    "from sklearn.datasets import make_blobs\n",
    "from sklearn.svm import SVC\n",
    "from sklearn.ensemble import RandomForestClassifier, GradientBoostingRegressor\n",
    "from sklearn.linear_model import LogisticRegression, LinearRegression\n",
    "from sklearn.preprocessing import StandardScaler"
   ]
  },
  {
   "cell_type": "code",
   "execution_count": null,
   "metadata": {},
   "outputs": [],
   "source": [
    "#Functions\n",
    "def slice_by_country(country_names, country_column_name, data_frame):\n",
    "    sliced_df = data_frame[data_frame[country_column_name].isin(country_names)]\n",
    "    return sliced_df\n",
    "def map_countries_to_numeric(countries_mapping,country_column_name,numeric_column_name,df):\n",
    "    numeric_mapping_vals = []\n",
    "    # loop through the rows using iterrows()\n",
    "    for index, row in df.iterrows():\n",
    "        if row[country_column_name] in countries_mapping:\n",
    "            numeric_mapping_vals += [countries_mapping[row[country_column_name]]]\n",
    "            print(numeric_mapping_vals)\n",
    "    df[numeric_column_name] = numeric_mapping_vals\n",
    "    return df"
   ]
  },
  {
   "cell_type": "code",
   "execution_count": null,
   "metadata": {},
   "outputs": [],
   "source": [
    "population_df = pd.read_csv(\"https://ourworldindata.org/grapher/population.csv?country=USA~BRA~AUS~ESP~ZWE~MDV~JPN&v=1&csvType=full&useColumnShortNames=true\", storage_options = {'User-Agent': 'Our World In Data data fetch/1.0'})\n",
    "meat_df = pd.read_csv(\"Consumption of meat per capita.csv\")"
   ]
  },
  {
   "cell_type": "code",
   "execution_count": null,
   "metadata": {},
   "outputs": [],
   "source": [
    "def filter_countries_by_names(data_frame, countries_list, country_column_name):\n",
    "    filtered_df = data_frame[data_frame[country_column_name].isin(countries_list)]\n",
    "    return filtered_df\n",
    "countries_to_pull = ['United States', 'Brazil', 'Australia', 'Spain', 'Zimbabwe', 'Maldives', 'Japan']\n",
    "filtered_population_df = filter_countries_by_names(population_df, countries_to_pull, 'Entity')\n",
    "filtered_population_df = filtered_population_df.drop(columns=['Code'])\n",
    "print(filtered_population_df)"
   ]
  },
  {
   "cell_type": "code",
   "execution_count": null,
   "metadata": {},
   "outputs": [],
   "source": [
    "years_to_include = list(range(1961, 2022))\n",
    "filtered_population_df_years = filtered_population_df[filtered_population_df['Year'].isin(years_to_include)]\n",
    "filtered_population_df_years"
   ]
  },
  {
   "cell_type": "code",
   "execution_count": null,
   "metadata": {},
   "outputs": [],
   "source": [
    "meat_df = filter_countries_by_names(meat_df, countries_to_pull, 'Entity')\n",
    "meat_df = meat_df.drop(columns= ['Beef', 'Sheep and goat', 'Pork', 'Other meats'])\n",
    "meat_df.head()"
   ]
  },
  {
   "cell_type": "code",
   "execution_count": null,
   "metadata": {},
   "outputs": [],
   "source": [
    "filtered_population_df_years[\"Year\"] = pd.to_numeric(filtered_population_df_years[\"Year\"], errors='coerce')\n",
    "meat_df[\"Year\"] = pd.to_numeric(meat_df[\"Year\"], errors='coerce')\n",
    "combined_df = pd.merge(filtered_population_df_years, meat_df, on=[\"Entity\", \"Year\"], how=\"inner\")\n",
    "combined_df.head()"
   ]
  },
  {
   "cell_type": "code",
   "execution_count": null,
   "metadata": {},
   "outputs": [],
   "source": [
    "combined_df = slice_by_country(['United States', 'Brazil', 'Austrailia', 'Spain', 'Zimbabwe', 'Maldives', 'Japan'],'Entity',combined_df)\n",
    "combined_df = map_countries_to_numeric({'United States':1, 'Brazil':2, 'Austrailia':3, 'Spain':4, 'Zimbabwe':5, 'Maldives':6, 'Japan':7},'Entity','country_index',combined_df)\n"
   ]
  }
 ],
 "metadata": {
  "kernelspec": {
   "display_name": "dev",
   "language": "python",
   "name": "python3"
  },
  "language_info": {
   "name": "python",
   "version": "3.10.15"
  }
 },
 "nbformat": 4,
 "nbformat_minor": 2
}
