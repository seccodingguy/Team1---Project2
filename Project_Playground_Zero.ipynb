{
 "cells": [
  {
   "cell_type": "code",
   "execution_count": 2,
   "metadata": {},
   "outputs": [],
   "source": [
    "# Import the data\n",
    "import pandas as pd\n",
    "import numpy as np\n",
    "import matplotlib.pyplot as plt\n",
    "\n",
    "import seaborn as sns\n",
    "from IPython.display import Image\n",
    "from sklearn.model_selection import train_test_split, cross_val_score, GridSearchCV\n",
    "from sklearn.metrics import balanced_accuracy_score, accuracy_score, confusion_matrix, roc_auc_score, mean_squared_error, r2_score, mean_absolute_error\n",
    "from sklearn.datasets import make_blobs\n",
    "from sklearn.svm import SVC\n",
    "from sklearn.ensemble import RandomForestClassifier, GradientBoostingRegressor\n",
    "from sklearn.linear_model import LogisticRegression, LinearRegression\n",
    "from sklearn.preprocessing import StandardScaler"
   ]
  },
  {
   "cell_type": "code",
   "execution_count": null,
   "metadata": {},
   "outputs": [
    {
     "data": {
      "text/plain": [
       "array(['Afghanistan', 'Albania', 'Algeria', 'Angola',\n",
       "       'Antigua and Barbuda', 'Argentina', 'Armenia', 'Australia',\n",
       "       'Austria', 'Azerbaijan', 'Bahamas', 'Bahrain', 'Bangladesh',\n",
       "       'Barbados', 'Belarus', 'Belgium', 'Belize', 'Benin', 'Bermuda',\n",
       "       'Bhutan', 'Bolivia', 'Bosnia and Herzegovina', 'Botswana',\n",
       "       'Brazil', 'Brunei', 'Bulgaria', 'Burkina Faso', 'Burundi',\n",
       "       'Cambodia', 'Cameroon', 'Canada', 'Cape Verde',\n",
       "       'Central African Republic', 'Chad', 'Chile', 'China', 'Colombia',\n",
       "       'Comoros', 'Congo', 'Costa Rica', \"Cote d'Ivoire\", 'Croatia',\n",
       "       'Cuba', 'Cyprus', 'Czechia', 'Czechoslovakia',\n",
       "       'Democratic Republic of Congo', 'Denmark', 'Djibouti', 'Dominica',\n",
       "       'Dominican Republic', 'East Timor', 'Ecuador', 'Egypt',\n",
       "       'El Salvador', 'Estonia', 'Eswatini', 'Ethiopia',\n",
       "       'Ethiopia (former)', 'Fiji', 'Finland', 'France',\n",
       "       'French Polynesia', 'Gabon', 'Gambia', 'Georgia', 'Germany',\n",
       "       'Ghana', 'Greece', 'Grenada', 'Guatemala', 'Guinea',\n",
       "       'Guinea-Bissau', 'Guyana', 'Haiti', 'Honduras', 'Hong Kong',\n",
       "       'Hungary', 'Iceland', 'India', 'Indonesia', 'Iran', 'Iraq',\n",
       "       'Ireland', 'Israel', 'Italy', 'Jamaica', 'Japan', 'Jordan',\n",
       "       'Kazakhstan', 'Kenya', 'Kiribati', 'Kuwait', 'Kyrgyzstan', 'Laos',\n",
       "       'Latvia', 'Lebanon', 'Lesotho', 'Liberia', 'Libya', 'Lithuania',\n",
       "       'Luxembourg', 'Macao', 'Madagascar', 'Malawi', 'Malaysia',\n",
       "       'Maldives', 'Mali', 'Malta', 'Mauritania', 'Mauritius', 'Mexico',\n",
       "       'Moldova', 'Mongolia', 'Montenegro', 'Morocco', 'Mozambique',\n",
       "       'Myanmar', 'Namibia', 'Nauru', 'Nepal', 'Netherlands',\n",
       "       'Netherlands Antilles', 'New Caledonia', 'New Zealand',\n",
       "       'Nicaragua', 'Niger', 'Nigeria', 'North America', 'North Korea',\n",
       "       'North Macedonia', 'Norway', 'Oman', 'Pakistan', 'Panama',\n",
       "       'Papua New Guinea', 'Paraguay', 'Peru', 'Philippines', 'Poland',\n",
       "       'Portugal', 'Qatar', 'Romania', 'Russia', 'Rwanda',\n",
       "       'Saint Kitts and Nevis', 'Saint Lucia',\n",
       "       'Saint Vincent and the Grenadines', 'Samoa',\n",
       "       'Sao Tome and Principe', 'Saudi Arabia', 'Senegal', 'Serbia',\n",
       "       'Serbia and Montenegro', 'Seychelles', 'Sierra Leone', 'Slovakia',\n",
       "       'Slovenia', 'Solomon Islands', 'South Africa', 'South Korea',\n",
       "       'South Sudan', 'Spain', 'Sri Lanka', 'Sudan', 'Suriname', 'Sweden',\n",
       "       'Switzerland', 'Syria', 'Taiwan', 'Tajikistan', 'Tanzania',\n",
       "       'Thailand', 'Togo', 'Trinidad and Tobago', 'Tunisia', 'Turkey',\n",
       "       'Turkmenistan', 'USSR', 'Uganda', 'Ukraine',\n",
       "       'United Arab Emirates', 'United Kingdom', 'United States',\n",
       "       'Uruguay', 'Uzbekistan', 'Vanuatu', 'Venezuela', 'Vietnam',\n",
       "       'World', 'Yemen', 'Yugoslavia', 'Zambia', 'Zimbabwe'], dtype=object)"
      ]
     },
     "metadata": {},
     "output_type": "display_data"
    }
   ],
   "source": [
    "#Functions\n",
    "def slice_by_country(country_names, country_column_name, data_frame):\n",
    "    sliced_df = data_frame[data_frame[country_column_name].isin(country_names)]\n",
    "    return sliced_df\n",
    "def map_countries_to_numeric(countries_mapping,country_column_name,numeric_column_name,df):\n",
    "    numeric_mapping_vals = []\n",
    "    # loop through the rows using iterrows()\n",
    "    for index, row in df.iterrows():\n",
    "        if row[country_column_name] in countries_mapping:\n",
    "            numeric_mapping_vals += [countries_mapping[row[country_column_name]]]\n",
    "            print(numeric_mapping_vals)\n",
    "    df[numeric_column_name] = numeric_mapping_vals\n",
    "    return df\n",
    "\n",
    "# Function to make predictions for a country\n",
    "def predict_country(country_data, future_years, meat_consumption_category):\n",
    "    years = country_data['Year'].values.reshape(-1, 1)\n",
    "    \n",
    "    # Population prediction\n",
    "    pop_model = LinearRegression()\n",
    "    pop_model.fit(years, country_data['population_historical'])\n",
    "    future_population = pop_model.predict(future_years)\n",
    "    \n",
    "    # Consumption prediction\n",
    "    cons_model = LinearRegression()\n",
    "    cons_model.fit(years, country_data[meat_consumption_category])\n",
    "    future_consumption = cons_model.predict(future_years)\n",
    "    \n",
    "    return future_population, future_consumption\n",
    "\n",
    "# Generate future years\n",
    "future_years = np.array(range(2025, 2032)).reshape(-1, 1)\n",
    "\n",
    "population_df = pd.read_csv(\"https://ourworldindata.org/grapher/population.csv?country=USA~BRA~AUS~ESP~ZWE~MDV~JPN&v=1&csvType=full&useColumnShortNames=true\", storage_options = {'User-Agent': 'Our World In Data data fetch/1.0'})\n",
    "meat_df = pd.read_csv(\"Consumption of meat per capita.csv\")\n",
    "combined_df = pd.merge(population_df, meat_df, on=[\"Entity\", \"Year\"], how=\"inner\")\n",
    "combined_df.head()\n",
    "\n",
    "# Create plots for each country\n",
    "countries = combined_df['Entity'].unique()\n",
    "#display(countries)\n",
    "\n",
    "# Store predictions for printing\n",
    "predictions = []\n",
    "\n",
    "for idx, country in enumerate(countries):\n",
    "    country_data = combined_df[combined_df['Entity'] == country]\n",
    "    future_pop, future_cons = predict_country(country_data, future_years, 'Poultry')\n",
    "    \n",
    "    # Store predictions\n",
    "    for year, pop, cons in zip(future_years.flatten(), future_pop, future_cons):\n",
    "        predictions.append({\n",
    "            'Country': country,\n",
    "            'Year': int(year),\n",
    "            'Population': round(pop, 1),\n",
    "            'Poultry_Consumption': round(cons, 1)\n",
    "        })\n",
    "        \n",
    "# Print predictions in a formatted table\n",
    "predictions_df = pd.DataFrame(predictions)\n",
    "print(\"\\nPredictions for 2025-2031:\")\n",
    "print(\"\\nCountry | Year | Population (millions) | Poultry Consumption (kg per capita)\")\n",
    "print(\"-\" * 75)\n",
    "for _, row in predictions_df.sort_values(['Country', 'Year']).iterrows():\n",
    "    print(f\"{row['Country']:<7} | {row['Year']} | {row['Population']:>18.1f} | {row['Poultry_Consumption']:>31.1f}\")"
   ]
  },
  {
   "cell_type": "code",
   "execution_count": null,
   "metadata": {},
   "outputs": [],
   "source": [
    "population_df = pd.read_csv(\"https://ourworldindata.org/grapher/population.csv?country=USA~BRA~AUS~ESP~ZWE~MDV~JPN&v=1&csvType=full&useColumnShortNames=true\", storage_options = {'User-Agent': 'Our World In Data data fetch/1.0'})\n",
    "meat_df = pd.read_csv(\"Consumption of meat per capita.csv\")"
   ]
  },
  {
   "cell_type": "code",
   "execution_count": null,
   "metadata": {},
   "outputs": [],
   "source": [
    "def filter_countries_by_names(data_frame, countries_list, country_column_name):\n",
    "    filtered_df = data_frame[data_frame[country_column_name].isin(countries_list)]\n",
    "    return filtered_df\n",
    "countries_to_pull = ['United States', 'Brazil', 'Australia', 'Spain', 'Zimbabwe', 'Maldives', 'Japan']\n",
    "filtered_population_df = filter_countries_by_names(population_df, countries_to_pull, 'Entity')\n",
    "filtered_population_df = filtered_population_df.drop(columns=['Code'])\n",
    "print(filtered_population_df)"
   ]
  },
  {
   "cell_type": "code",
   "execution_count": null,
   "metadata": {},
   "outputs": [],
   "source": [
    "years_to_include = list(range(1961, 2022))\n",
    "filtered_population_df_years = filtered_population_df[filtered_population_df['Year'].isin(years_to_include)]\n",
    "filtered_population_df_years"
   ]
  },
  {
   "cell_type": "code",
   "execution_count": null,
   "metadata": {},
   "outputs": [],
   "source": [
    "meat_df = filter_countries_by_names(meat_df, countries_to_pull, 'Entity')\n",
    "meat_df = meat_df.drop(columns= ['Beef', 'Sheep and goat', 'Pork', 'Other meats'])\n",
    "meat_df.head()"
   ]
  },
  {
   "cell_type": "code",
   "execution_count": null,
   "metadata": {},
   "outputs": [],
   "source": [
    "filtered_population_df_years[\"Year\"] = pd.to_numeric(filtered_population_df_years[\"Year\"], errors='coerce')\n",
    "meat_df[\"Year\"] = pd.to_numeric(meat_df[\"Year\"], errors='coerce')\n",
    "combined_df = pd.merge(filtered_population_df_years, meat_df, on=[\"Entity\", \"Year\"], how=\"inner\")\n",
    "combined_df.head()"
   ]
  },
  {
   "cell_type": "code",
   "execution_count": null,
   "metadata": {},
   "outputs": [],
   "source": [
    "combined_df = slice_by_country(['United States', 'Brazil', 'Austrailia', 'Spain', 'Zimbabwe', 'Maldives', 'Japan'],'Entity',combined_df)\n",
    "combined_df = map_countries_to_numeric({'United States':1, 'Brazil':2, 'Austrailia':3, 'Spain':4, 'Zimbabwe':5, 'Maldives':6, 'Japan':7},'Entity','country_index',combined_df)\n"
   ]
  }
 ],
 "metadata": {
  "kernelspec": {
   "display_name": "ai_dev",
   "language": "python",
   "name": "python3"
  },
  "language_info": {
   "codemirror_mode": {
    "name": "ipython",
    "version": 3
   },
   "file_extension": ".py",
   "mimetype": "text/x-python",
   "name": "python",
   "nbconvert_exporter": "python",
   "pygments_lexer": "ipython3",
   "version": "3.10.8"
  }
 },
 "nbformat": 4,
 "nbformat_minor": 2
}
